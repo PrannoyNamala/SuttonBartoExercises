{
  "nbformat": 4,
  "nbformat_minor": 0,
  "metadata": {
    "colab": {
      "provenance": []
    },
    "kernelspec": {
      "name": "python3",
      "display_name": "Python 3"
    },
    "language_info": {
      "name": "python"
    }
  },
  "cells": [
    {
      "cell_type": "markdown",
      "source": [
        "### Exercise 2.1"
      ],
      "metadata": {
        "id": "Wm4o_QCkvEb5"
      }
    },
    {
      "cell_type": "code",
      "execution_count": null,
      "metadata": {
        "id": "mD63g6Y_vC6T"
      },
      "outputs": [],
      "source": []
    }
  ]
}